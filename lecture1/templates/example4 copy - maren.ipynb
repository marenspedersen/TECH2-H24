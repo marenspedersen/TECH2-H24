{
 "cells": [
  {
   "cell_type": "markdown",
   "metadata": {},
   "source": [
    "# Example 4\n",
    "\n",
    "We want to find out how much slower or faster our own implementation of argmax() is\n",
    "compared to NumPy’s implementation.\n",
    "\n",
    "Test the run time of your `argmax()` and `np.argmax()` using the following sequences:\n",
    "```python\n",
    "values1 = [1, 2, 3, 4, 5]\n",
    "values2 = np.linspace(0.0, 1.0, 1000)\n",
    "values3 = np.random.default_rng(123).random(100000)\n",
    "```\n",
    "\n",
    "Comment on the relative speed of your implementation vs NumPy's.\n",
    "How does it depend on the data type (list, NumPy array) and \n",
    "the sample size?"
   ]
  }
 ],
 "metadata": {
  "kernelspec": {
   "display_name": "py3-default",
   "language": "python",
   "name": "python3"
  },
  "language_info": {
   "codemirror_mode": {
    "name": "ipython",
    "version": 3
   },
   "file_extension": ".py",
   "mimetype": "text/x-python",
   "name": "python",
   "nbconvert_exporter": "python",
   "pygments_lexer": "ipython3",
   "version": "3.11.9"
  }
 },
 "nbformat": 4,
 "nbformat_minor": 2
}
